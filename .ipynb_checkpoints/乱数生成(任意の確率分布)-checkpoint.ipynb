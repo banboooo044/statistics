{
 "cells": [
  {
   "cell_type": "code",
   "execution_count": 5,
   "metadata": {},
   "outputs": [
    {
     "data": {
      "image/png": "[encoded data removed]",
      "text/plain": [
       "<matplotlib.figure.Figure at 0x11d6b3e80>"
      ]
     },
     "metadata": {},
     "output_type": "display_data"
    }
   ],
   "source": [
    "import numpy as np\n",
    "import matplotlib.pyplot as plt\n",
    "import scipy.optimize\n",
    "import scipy.integrate\n",
    "from scipy.stats import norm,uniform\n",
    "\n",
    "class Convert_Random:\n",
    "\t\"\"\" 任意の確率関数に従う乱数を生成 \"\"\"\n",
    "\tdef __init__(self,f,Nsim = 100000):\n",
    "\t\tnp.random.seed()\n",
    "\t\tself.f = f\n",
    "\t\tself.f_normalized = lambda x: f(x) / scipy.integrate.quad(f, -float('inf'), float('inf'))[0]\n",
    "\t\tgv = norm(loc=0.0, scale=1.0)\n",
    "\t\tg = gv.pdf\n",
    "\n",
    "\t\txopt = scipy.optimize.fmin(lambda x: - self.f(x) / g(x), 0.0, disp=False)[0]\n",
    "\t\tM = self.f(xopt) / g(xopt)\n",
    "\t\tY = gv.rvs(size=Nsim)\n",
    "\t\tU = uniform.rvs(size=Nsim) * M * g(Y)\n",
    "\t\tself.X = Y[U <= f(Y)]\n",
    "\n",
    "\tdef generateRandom(self,num=1):\n",
    "\t\treturn np.random.choice(self.X,num)    \n",
    "\n",
    "\tdef drawGragh(self,lim = [-10,10,1000]):\n",
    "\t\tx = np.linspace(lim[0], lim[1], lim[2])\n",
    "\t\ty = self.f_normalized(x)\n",
    "\t\tplt.plot(x, y, 'r-', lw=2)\n",
    "\t\tplt.hist(self.X,bins = 50,normed = True)\n",
    "\t\tplt.show()\n",
    "\n",
    "\tdef showSample(self):\n",
    "\t\treturn len(self.X),self.X\n",
    "\n",
    "if __name__ == \"__main__\":\n",
    "\tf = lambda x: np.exp(-x**2 / 2) * (np.sin(6*x)**2 + 3 * np.cos(x)**2 * np.sin(4*x)**2 + 1)\n",
    "\tCV = Convert_Random(f)\n",
    "\tCV.drawGragh()"
   ]
  },
  {
   "cell_type": "code",
   "execution_count": null,
   "metadata": {
    "collapsed": true
   },
   "outputs": [],
   "source": []
  }
 ],
 "metadata": {
  "kernelspec": {
   "display_name": "Python 3",
   "language": "python",
   "name": "python3"
  },
  "language_info": {
   "codemirror_mode": {
    "name": "ipython",
    "version": 3
   },
   "file_extension": ".py",
   "mimetype": "text/x-python",
   "name": "python",
   "nbconvert_exporter": "python",
   "pygments_lexer": "ipython3",
   "version": "3.6.1"
  }
 },
 "nbformat": 4,
 "nbformat_minor": 2
}
