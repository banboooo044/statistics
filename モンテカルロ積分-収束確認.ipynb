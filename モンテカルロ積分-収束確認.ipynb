{
 "cells": [
  {
   "cell_type": "code",
   "execution_count": 1,
   "metadata": {
    "collapsed": true
   },
   "outputs": [],
   "source": [
    "#モンテカルロ積分の収束を可視化する。\n",
    "#f(x)*p(x)を積分範囲[a,b]で積分(p(x)が存在しない場合、一様分布でサンプリングした場合を考える。)"
   ]
  },
  {
   "cell_type": "code",
   "execution_count": 7,
   "metadata": {},
   "outputs": [
    {
     "name": "stderr",
     "output_type": "stream",
     "text": [
      "/Users/take/.pyenv/versions/anaconda3-4.4.0/envs/ml/lib/python3.6/site-packages/ipykernel_launcher.py:11: RuntimeWarning: divide by zero encountered in true_divide\n",
      "  # This is added back by InteractiveShellApp.init_path()\n",
      "/Users/take/.pyenv/versions/anaconda3-4.4.0/envs/ml/lib/python3.6/site-packages/ipykernel_launcher.py:11: RuntimeWarning: overflow encountered in true_divide\n",
      "  # This is added back by InteractiveShellApp.init_path()\n",
      "/Users/take/.pyenv/versions/anaconda3-4.4.0/envs/ml/lib/python3.6/site-packages/ipykernel_launcher.py:11: RuntimeWarning: invalid value encountered in true_divide\n",
      "  # This is added back by InteractiveShellApp.init_path()\n",
      "/Users/take/.pyenv/versions/anaconda3-4.4.0/envs/ml/lib/python3.6/site-packages/ipykernel_launcher.py:13: RuntimeWarning: overflow encountered in square\n",
      "  del sys.path[0]\n"
     ]
    },
    {
     "data": {
      "image/png": "[encoded data removed]",
      "text/plain": [
       "<matplotlib.figure.Figure at 0x116108470>"
      ]
     },
     "metadata": {},
     "output_type": "display_data"
    }
   ],
   "source": [
    "import numpy as np\n",
    "import matplotlib.pyplot as plt\n",
    "from scipy.stats import norm,uniform,cauchy\n",
    "import scipy.integrate\n",
    "N = 100000\n",
    "x = 4\n",
    "f_nume = lambda t:t*(np.exp(-((t-x)**2)/2))/np.sqrt(2*(np.pi))\n",
    "f_denom = lambda t:(np.exp(-((t-x)**2)/2))/np.sqrt(2*(np.pi))\n",
    "X_nume = f_nume(cauchy().rvs(size=N))\n",
    "X_denom = f_denom(cauchy().rvs(size=N))\n",
    "X = X_nume / X_denom\n",
    "estint = np.cumsum(X_nume) / np.cumsum(X_denom)\n",
    "esterr = np.sqrt(np.cumsum((X-estinct)**2))/np.arange(1, N + 1)\n",
    "\n",
    "plt.plot(estint,color='red',linewidth=2)\n",
    "plt.plot(estint + 2*esterr,color = 'orange')\n",
    "plt.plot(estint - 2*esterr,color = 'orange')\n",
    "    \n",
    "plt.show()\n",
    "    \n",
    "    \n",
    "    \n"
   ]
  },
  {
   "cell_type": "code",
   "execution_count": null,
   "metadata": {
    "collapsed": true
   },
   "outputs": [],
   "source": []
  }
 ],
 "metadata": {
  "kernelspec": {
   "display_name": "Python 3",
   "language": "python",
   "name": "python3"
  },
  "language_info": {
   "codemirror_mode": {
    "name": "ipython",
    "version": 3
   },
   "file_extension": ".py",
   "mimetype": "text/x-python",
   "name": "python",
   "nbconvert_exporter": "python",
   "pygments_lexer": "ipython3",
   "version": "3.6.1"
  }
 },
 "nbformat": 4,
 "nbformat_minor": 2
}
