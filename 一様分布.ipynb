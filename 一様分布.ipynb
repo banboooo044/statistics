{
 "cells": [
  {
   "cell_type": "code",
   "execution_count": 2,
   "metadata": {},
   "outputs": [],
   "source": [
    "%matplotlib inline\n",
    "import numpy as np\n",
    "import math\n",
    "import matplotlib.pyplot as plt"
   ]
  },
  {
   "cell_type": "code",
   "execution_count": 16,
   "metadata": {},
   "outputs": [
    {
     "name": "stdout",
     "output_type": "stream",
     "text": [
      "実験結果\n",
      "{0: 999, 1: 998, 2: 1001, 3: 1001, 4: 1001, 5: 1012, 6: 1019, 7: 1005, 8: 974, 9: 990}\n"
     ]
    },
    {
     "data": {
      "text/plain": [
       "<matplotlib.text.Text at 0x10a404828>"
      ]
     },
     "execution_count": 16,
     "metadata": {},
     "output_type": "execute_result"
    },
    {
     "data": {
      "image/png": "[encoded data removed]",
      "text/plain": [
       "<matplotlib.figure.Figure at 0x10a355400>"
      ]
     },
     "metadata": {},
     "output_type": "display_data"
    }
   ],
   "source": [
    "#離散一様分布(実験)\n",
    "# 確率変数X = 0 ~ 9 全てに対し、等しい確率が定義されている試行を10000回行った。(np.random.chiceがそういう仕様のはず)\n",
    "X = [0,1,2,3,4,5,6,7,8,9]\n",
    "fig, (axL, axR) = plt.subplots(ncols=2,figsize=(10,4))\n",
    "uniform = {i:0 for i in range(10)}\n",
    "for i in range(10000):\n",
    "\tuniform[np.random.choice(X)] += 1\n",
    "print(\"実験結果\")\n",
    "print(uniform)\n",
    "\n",
    "axL.bar(X,uniform.values(),width=0.8)\n",
    "axL.set_xlabel('X')\n",
    "axL.set_ylabel('freq')\n",
    "\n",
    "axR.bar(X,list(map(lambda x:float(x) / 10000,uniform.values())),width=0.8)\n",
    "axR.set_xlabel('X')\n",
    "axR.set_ylabel('probability')"
   ]
  },
  {
   "cell_type": "code",
   "execution_count": 18,
   "metadata": {},
   "outputs": [
    {
     "data": {
      "text/plain": [
       "<matplotlib.text.Text at 0x10a4fc5c0>"
      ]
     },
     "execution_count": 18,
     "metadata": {},
     "output_type": "execute_result"
    },
    {
     "data": {
      "image/png": "[encoded data removed]",
      "text/plain": [
       "<matplotlib.figure.Figure at 0x10a0643c8>"
      ]
     },
     "metadata": {},
     "output_type": "display_data"
    }
   ],
   "source": [
    "#離散一様分布(理論)\n",
    "f = lambda a,b,x:1 / (b - a + 1) # X = [0 ~ 9]より、b = 9,a = 0\n",
    "A = [0] * (len(X))\n",
    "B = [9] * (len(X))\n",
    "plt.bar(X,list(map(f,A,B,X)),width=0.8)\n",
    "plt.xlabel('X')\n",
    "plt.ylabel('probability')"
   ]
  },
  {
   "cell_type": "code",
   "execution_count": null,
   "metadata": {
    "collapsed": true
   },
   "outputs": [],
   "source": []
  }
 ],
 "metadata": {
  "kernelspec": {
   "display_name": "Python 3",
   "language": "python",
   "name": "python3"
  },
  "language_info": {
   "codemirror_mode": {
    "name": "ipython",
    "version": 3
   },
   "file_extension": ".py",
   "mimetype": "text/x-python",
   "name": "python",
   "nbconvert_exporter": "python",
   "pygments_lexer": "ipython3",
   "version": "3.6.1"
  }
 },
 "nbformat": 4,
 "nbformat_minor": 2
}
