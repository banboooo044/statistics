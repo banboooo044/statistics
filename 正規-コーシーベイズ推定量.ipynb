{
 "cells": [
  {
   "cell_type": "code",
   "execution_count": 17,
   "metadata": {},
   "outputs": [
    {
     "name": "stdout",
     "output_type": "stream",
     "text": [
      "正規分布からサンプリング\n",
      "3.43084181015\n",
      "-------------------------\n",
      "コーシー分布からサンプリング\n",
      "3.4221355744\n",
      "--------------------------\n",
      "integrate-quadを使用して積分計算\n",
      "3.435061555229311\n"
     ]
    }
   ],
   "source": [
    "import numpy as np\n",
    "import matplotlib.pyplot as plt\n",
    "import scipy.optimize\n",
    "import scipy.integrate\n",
    "from scipy.stats import norm,uniform,cauchy\n",
    "\n",
    "np.random.seed()\n",
    "\n",
    "def delta1(x):\n",
    "    #正規分布をp(x)としてサンプリング\n",
    "    Nsim = 100000\n",
    "    X = norm(loc=x).rvs(size=Nsim)\n",
    "    f_nume = lambda x:x/(np.pi*(1.0 + (x**2)))\n",
    "    f_denom = lambda x:1.0/(np.pi*(1.0 + (x**2)))\n",
    "    return sum(f_nume(X)) / sum(f_denom(X))\n",
    "\n",
    "def delta2(x):\n",
    "    #コーシー分布をp(x)としてサンプリング\n",
    "    Nsim = 100000\n",
    "    X = cauchy.rvs(size=Nsim)\n",
    "    f_nume = lambda t:t*(np.exp(-((t-x)**2)/2))/np.sqrt(2*(np.pi))\n",
    "    f_denom = lambda t:(np.exp(-((t-x)**2)/2))/np.sqrt(2*(np.pi))\n",
    "    return sum(f_nume(X)) / sum(f_denom(X))\n",
    "\n",
    "def exact_cal(x):\n",
    "    # 分子の被積分関数\n",
    "    f_nume = lambda t: t * norm(loc=x).pdf(t) * cauchy.pdf(t)\n",
    "    # 分母の被積分関数\n",
    "    f_denom = lambda t: norm(loc=x).pdf(t) * cauchy.pdf(t)\n",
    "    I_nume = scipy.integrate.quad(f_nume, -float('inf'), float('inf'))[0]\n",
    "    I_denom = scipy.integrate.quad(f_denom, -float('inf'), float('inf'))[0]\n",
    "    return I_nume/I_denom\n",
    "    \n",
    "\n",
    "print(\"正規分布からサンプリング\")\n",
    "print(delta(4.0))\n",
    "print(\"-------------------------\")\n",
    "print(\"コーシー分布からサンプリング\")\n",
    "print(delta2(4.0))\n",
    "print(\"--------------------------\")\n",
    "print(\"integrate-quadを使用して積分計算\")\n",
    "print(exact_cal(4.0))\n",
    "\n",
    "\n"
   ]
  }
 ],
 "metadata": {
  "kernelspec": {
   "display_name": "Python 3",
   "language": "python",
   "name": "python3"
  },
  "language_info": {
   "codemirror_mode": {
    "name": "ipython",
    "version": 3
   },
   "file_extension": ".py",
   "mimetype": "text/x-python",
   "name": "python",
   "nbconvert_exporter": "python",
   "pygments_lexer": "ipython3",
   "version": "3.6.1"
  }
 },
 "nbformat": 4,
 "nbformat_minor": 2
}
