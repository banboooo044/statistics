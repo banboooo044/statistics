{
 "cells": [
  {
   "cell_type": "code",
   "execution_count": 7,
   "metadata": {},
   "outputs": [
    {
     "data": {
      "image/png": "[encoded data removed]",
      "text/plain": [
       "<matplotlib.figure.Figure at 0x11a2f9b38>"
      ]
     },
     "metadata": {},
     "output_type": "display_data"
    }
   ],
   "source": [
    "#2/19/2018\n",
    "#逆関数法を用いた指数分布に従う乱数の作成。\n",
    "import math\n",
    "import numpy as np\n",
    "from scipy.stats import uniform\n",
    "import matplotlib.pyplot as plt\n",
    "%matplotlib inline\n",
    "\n",
    "np.random.seed()\n",
    "N = 10000\n",
    "# [0.0, 1.0]の一様分布に従う確率変数\n",
    "rv = uniform(loc=0.0, scale=1.0)\n",
    "# 一様分布からサンプリング\n",
    "x = rv.rvs(size=N) # N(10000)個のサンプリング。\n",
    "\n",
    "f = lambda x,l:l * (math.exp(-l*x))        #指数分布の確率関数\n",
    "F_inv = lambda u,l:-(1/l)*(math.log(1-u))　#指数分布の累積確率分布のinverse\n",
    "\n",
    "lam = 1 #ラムダの値\n",
    "x = list(map(F_inv,x,[lam]*N)) #一様乱数をF_invに通す。\n",
    "\n",
    "nbins = 50\n",
    "plt.hist(x,nbins,normed=True)\n",
    "\n",
    "# 真のPDF(赤線)を描画\n",
    "x = np.linspace(0, 10, 100)\n",
    "plt.plot(x, list(map(f,x,[lam]*100)), 'r-', lw=2, label='uniform pdf')\n",
    "plt.title('Exp(1)')\n",
    "plt.xlabel('X')\n",
    "plt.ylabel('Num')\n",
    "plt.show()\n"
   ]
  },
  {
   "cell_type": "code",
   "execution_count": null,
   "metadata": {
    "collapsed": true
   },
   "outputs": [],
   "source": []
  }
 ],
 "metadata": {
  "kernelspec": {
   "display_name": "Python 3",
   "language": "python",
   "name": "python3"
  },
  "language_info": {
   "codemirror_mode": {
    "name": "ipython",
    "version": 3
   },
   "file_extension": ".py",
   "mimetype": "text/x-python",
   "name": "python",
   "nbconvert_exporter": "python",
   "pygments_lexer": "ipython3",
   "version": "3.6.1"
  }
 },
 "nbformat": 4,
 "nbformat_minor": 2
}
