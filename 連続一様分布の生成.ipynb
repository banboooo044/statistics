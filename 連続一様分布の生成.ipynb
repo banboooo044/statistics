{
 "cells": [
  {
   "cell_type": "code",
   "execution_count": 30,
   "metadata": {},
   "outputs": [
    {
     "data": {
      "image/png": "[encoded data removed]",
      "text/plain": [
       "<matplotlib.figure.Figure at 0x11c832198>"
      ]
     },
     "metadata": {},
     "output_type": "display_data"
    }
   ],
   "source": [
    "#一様乱数の生成 & ヒストグラムで表現\n",
    "import numpy as np\n",
    "from scipy.stats import uniform\n",
    "import matplotlib.pyplot as plt\n",
    "%matplotlib inline\n",
    "\n",
    "# 一様分布に従う確率分布からランダムサンプリング\n",
    "np.random.seed()\n",
    "N = 10000\n",
    "# [0.0, 1.0]の一様分布に従う確率変数\n",
    "rv = uniform(loc=0.0, scale=1.0)\n",
    "# 一様分布からサンプリング\n",
    "x = rv.rvs(size=N) # N(10000)個のサンプリング。\n",
    "nbins = 50\n",
    "plt.hist(x,nbins,normed=True)#正規化する。\n",
    "\n",
    "# 真のPDF(赤線)を描画\n",
    "x = np.linspace(rv.ppf(0), rv.ppf(1), 100)\n",
    "plt.plot(x, uniform.pdf(x), 'r-', lw=2, label='uniform pdf')\n",
    "plt.xlabel('X')\n",
    "plt.ylabel('Num')\n",
    "plt.show()\n"
   ]
  },
  {
   "cell_type": "code",
   "execution_count": null,
   "metadata": {
    "collapsed": true
   },
   "outputs": [],
   "source": [
    "# 本来は赤線のラインになる。"
   ]
  }
 ],
 "metadata": {
  "kernelspec": {
   "display_name": "Python 3",
   "language": "python",
   "name": "python3"
  },
  "language_info": {
   "codemirror_mode": {
    "name": "ipython",
    "version": 3
   },
   "file_extension": ".py",
   "mimetype": "text/x-python",
   "name": "python",
   "nbconvert_exporter": "python",
   "pygments_lexer": "ipython3",
   "version": "3.6.1"
  }
 },
 "nbformat": 4,
 "nbformat_minor": 2
}
